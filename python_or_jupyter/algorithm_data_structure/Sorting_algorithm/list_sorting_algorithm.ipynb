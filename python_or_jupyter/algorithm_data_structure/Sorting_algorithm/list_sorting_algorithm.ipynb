{
 "cells": [
  {
   "cell_type": "markdown",
   "metadata": {},
   "source": [
    "### This was project about sorting algorithm\n",
    "Sorting algorithms are fundamental in computer science, and I wanted to dive deeper into how they work, their efficiencies, and how they can be applied in real-world scenarios. In this project, I explored several popular sorting algorithms, implemented them, and compared their performances."
   ]
  },
  {
   "cell_type": "markdown",
   "metadata": {},
   "source": [
    "### 1. Bubble Sort\n",
    "I started with one of the simplest algorithms—Bubble Sort. It repeatedly steps through the list, compares adjacent elements, and swaps them if they are in the wrong order. It’s inefficient for large lists with a time complexity of O(n²)."
   ]
  },
  {
   "cell_type": "code",
   "execution_count": 14,
   "metadata": {},
   "outputs": [
    {
     "name": "stdout",
     "output_type": "stream",
     "text": [
      "This is sorted ascending order for bubble sort: [1, 2, 3, 5, 6, 7, 8, 9, 11, 12, 13]\n",
      "This is sorted descending order for bubble sort: [12, 11, 9, 8, 7, 6, 5, 3, 2, 1]\n"
     ]
    }
   ],
   "source": [
    "#for ascending order\n",
    "def bubble(list_a):\n",
    "    indexing_length = len(list_a) - 1\n",
    "    sorted = False\n",
    "\n",
    "    while not sorted:\n",
    "        sorted = True\n",
    "        for i in range(0, indexing_length):\n",
    "            if list_a[i] > list_a[i+1]:\n",
    "                sorted = False\n",
    "                list_a[i], list_a[i+1] = list_a[i+1], list_a[i]\n",
    "    \n",
    "    return list_a\n",
    "\n",
    "print(f\"This is sorted ascending order for bubble sort: {bubble([1,13,2,3,6,5,7,8,9,11,12])}\")\n",
    "\n",
    "#for ascending order\n",
    "def bubble_desc(list_a_1):\n",
    "    indexing_length_desc = len(list_a_1) - 1\n",
    "    sorted = False\n",
    "\n",
    "    while not sorted:\n",
    "        sorted = True\n",
    "        for i in range(0, indexing_length_desc):\n",
    "            if list_a_1[i] < list_a_1[i+1]:\n",
    "                sorted = False\n",
    "                list_a_1[i], list_a_1[i+1] = list_a_1[i+1], list_a_1[i]\n",
    "    \n",
    "    return list_a_1\n",
    "print(f\"This is sorted descending order for bubble sort: {bubble_desc([1,2,3,6,5,7,8,9,11,12])}\")\n"
   ]
  },
  {
   "cell_type": "markdown",
   "metadata": {},
   "source": [
    "In this implementation of the Bubble Sort algorithm, my goal is to iteratively compare adjacent elements in a list and swap them if they are in the wrong order, eventually sorting the entire list. I start by calculating the length of the list (`list_a`) and subtracting 1 because the list uses 0-based indexing. I initialize a variable `sorted` as `False`, which will control the loop and indicate whether the list is fully sorted. The `while` loop continues running as long as `sorted` is `False`, assuming the list is sorted unless a pair of elements needs to be swapped. Inside the loop, I set `sorted = True`, and then I use a `for` loop to iterate through the list from the beginning to the second-to-last element. For each pair of adjacent elements, I compare them, and if they are in the wrong order (i.e., `list_a[i] > list_a[i+1]`), I swap them. I also set `sorted = False` when a swap occurs, signaling that the list may still not be sorted, so the `while` loop will continue. The swapping is done using Python's tuple unpacking, which swaps the two elements in a single line of code. This process repeats until no more swaps are needed, meaning the list is fully sorted. Finally, the function returns the sorted list. Although Bubble Sort is simple to implement and easy to understand, it’s not the most efficient algorithm for large datasets due to its relatively high time complexity."
   ]
  },
  {
   "cell_type": "markdown",
   "metadata": {},
   "source": [
    "### 2. Selection Sort\n",
    "This algorithm works by repeatedly finding the smallest (or largest) element from the unsorted part of the list and swapping it with the first unsorted element. It's simple but has relatively slow performance for large arrays. It also has a time complexity of O(n²)."
   ]
  },
  {
   "cell_type": "code",
   "execution_count": 13,
   "metadata": {},
   "outputs": [
    {
     "name": "stdout",
     "output_type": "stream",
     "text": [
      "This is sorted ascending order for bubble sort: [1, 2, 3, 4, 5, 6, 7, 8, 9, 11, 12, 19, 20]\n",
      "This is sorted descending order for bubble sort: [20, 19, 12, 11, 9, 8, 7, 6, 5, 4, 3, 2, 1]\n"
     ]
    }
   ],
   "source": [
    "#for ascending order\n",
    "def selection_sort(list_b):\n",
    "    indexing_length = range(0, len(list_b) - 1)\n",
    "\n",
    "    for i in indexing_length:\n",
    "        min_value = i\n",
    "\n",
    "        for j in range(i+1, len(list_b)):\n",
    "            if list_b[j] < list_b[min_value]:\n",
    "                min_value = j\n",
    "        \n",
    "        if min_value != i:\n",
    "            list_b[min_value], list_b[i] = list_b[i], list_b[min_value]\n",
    "    \n",
    "    return list_b\n",
    "\n",
    "print(f\"This is sorted ascending order for bubble sort: {selection_sort([20,19,4,1,2,3,6,5,7,8,9,11,12])}\")\n",
    "\n",
    "def selection_sort_desc(list_b_1):\n",
    "    indexing_length = range(0, len(list_b_1) - 1)\n",
    "\n",
    "    for i in indexing_length:\n",
    "        max_value = i\n",
    "\n",
    "        for j in range(i+1, len(list_b_1)):\n",
    "            if list_b_1[j] > list_b_1[max_value]:\n",
    "                max_value = j\n",
    "        \n",
    "        if max_value != i:\n",
    "            list_b_1[max_value], list_b_1[i] = list_b_1[i], list_b_1[max_value]\n",
    "    \n",
    "    return list_b_1\n",
    "\n",
    "print(f\"This is sorted descending order for bubble sort: {selection_sort_desc([20,19,4,1,2,3,6,5,7,8,9,11,12])}\")"
   ]
  },
  {
   "cell_type": "markdown",
   "metadata": {},
   "source": [
    "In my implementation of the Selection Sort algorithm, the goal is to sort the list by repeatedly selecting the smallest (or largest) element from the unsorted portion of the list and placing it in its correct position. Here's how my code works:\n",
    "\n",
    "First, I initialize the indesing_length, which is a range that goes from 0 to the second-to-last index of the list (len(list_b) - 1). This will be used to track the unsorted portion of the list as I iterate through it. I then enter a for loop to iterate through each element of the list. For each iteration, I set the min_value to the current index i, which represents the smallest element in the unsorted portion of the list (initially assumed to be the element at index i).\n",
    "\n",
    "Inside the first loop, I have another for loop that starts from the element after i (i.e., i+1) and goes to the end of the list. The purpose of this inner loop is to find the smallest element in the unsorted portion. I compare each element list_b[j] with list_b[min_value], and if I find an element that is smaller, I update min_value to the index j of that element.\n",
    "\n",
    "Once the inner loop completes, I check if min_value is different from i. If it is, that means I’ve found a smaller element than the current one, so I swap the element at min_value with the element at i, placing the smallest unsorted element in its correct position. If min_value is the same as i, no swap is needed because the element is already in the correct position.\n",
    "\n",
    "This process continues for each element in the list, with the smallest unsorted element being placed in its correct position in each iteration, until the entire list is sorted. Finally, I return the sorted list.\n",
    "\n",
    "Selection Sort is straightforward to understand and implement, but its time complexity of O(n²) makes it less efficient for large datasets compared to some other sorting algorithms."
   ]
  },
  {
   "cell_type": "markdown",
   "metadata": {},
   "source": [
    "### 3. Insertion Sort\n",
    "This algorithm works by builds the sorted list one item at a time by inserting each element into its correct position in the sorted portion of the list. It’s efficient for small or partially sorted lists with a time complexity of O(n²) in the worst case."
   ]
  },
  {
   "cell_type": "code",
   "execution_count": 1,
   "metadata": {},
   "outputs": [
    {
     "name": "stdout",
     "output_type": "stream",
     "text": [
      "This is the implementation of insertion sort for ascending order: [1, 2, 3, 4, 6, 7, 8, 9, 10, 11, 12, 14, 15]\n",
      "This is the implementation of insertion sort for descending order: [15, 14, 12, 11, 10, 9, 8, 7, 6, 4, 3, 2, 1]\n"
     ]
    }
   ],
   "source": [
    "#for ascending order\n",
    "def insertion_sort(list_c):\n",
    "    indexing_length = range(1, len(list_c))\n",
    "    for i in indexing_length:\n",
    "        value_to_sort = list_c[i]\n",
    "\n",
    "        while list_c[i-1] > value_to_sort and i>0:\n",
    "            list_c[i], list_c[i-1] = list_c[i-1], list_c[i]\n",
    "            i = i-1\n",
    "\n",
    "    return list_c\n",
    "\n",
    "print(f\"This is the implementation of insertion sort for ascending order: {insertion_sort([1,2,3,6,7,8,9,10,4,11,12,14,15])}\")\n",
    "\n",
    "#for ascending order\n",
    "def insertion_sort(list_c):\n",
    "    indexing_length = range(1, len(list_c))\n",
    "    for i in indexing_length:\n",
    "        value_to_sort = list_c[i]\n",
    "\n",
    "        while list_c[i-1] < value_to_sort and i>0:\n",
    "            list_c[i], list_c[i-1] = list_c[i-1], list_c[i]\n",
    "            i = i-1\n",
    "\n",
    "    return list_c\n",
    "\n",
    "print(f\"This is the implementation of insertion sort for descending order: {insertion_sort([1,2,3,6,7,8,9,10,4,11,12,14,15])}\")"
   ]
  },
  {
   "cell_type": "markdown",
   "metadata": {},
   "source": [
    "In my implementation of the Insertion Sort algorithm, I start by considering the list from the second element, treating the first element as already sorted. I then loop through each element in the list, starting from index 1. For each element, I store it in a variable called `value_to_sort` and compare it with the elements before it. If the element before it is greater, I shift it one position to the right and continue checking until I find the correct position for `value_to_sort`. This process ensures that the sorted portion of the list grows progressively with each iteration. The algorithm repeats this comparison and shifting process for all elements until the entire list is sorted. Finally, I return the sorted list."
   ]
  },
  {
   "cell_type": "markdown",
   "metadata": {},
   "source": [
    "### 4. Merge Sort\n",
    "Merge Sort is a divide-and-conquer algorithm. It works by recursively dividing the list into halves until each half contains a single element (which is trivially sorted), and then merging those halves back together in sorted order. The merge step is where the actual sorting happens, where two sorted halves are combined into one sorted list."
   ]
  },
  {
   "cell_type": "code",
   "execution_count": 2,
   "metadata": {},
   "outputs": [
    {
     "name": "stdout",
     "output_type": "stream",
     "text": [
      "[1, 2, 3, 3, 4, 5, 6, 7, 8, 9, 9, 10, 11, 12, 19, 20, 27, 38, 43, 82]\n"
     ]
    }
   ],
   "source": [
    "def merge_sort(arr):\n",
    "    if len(arr) <= 1:\n",
    "        return arr\n",
    "    \n",
    "    \n",
    "    mid = len(arr) // 2\n",
    "    \n",
    "    \n",
    "    left_half = merge_sort(arr[:mid])\n",
    "    right_half = merge_sort(arr[mid:])\n",
    "    \n",
    "    \n",
    "    return merge(left_half, right_half)\n",
    "\n",
    "def merge(left, right):\n",
    "    sorted_arr = []\n",
    "    i = j = 0\n",
    "    \n",
    "    \n",
    "    while i < len(left) and j < len(right):\n",
    "        if left[i] < right[j]:\n",
    "            sorted_arr.append(left[i])\n",
    "            i += 1\n",
    "        else:\n",
    "            sorted_arr.append(right[j])\n",
    "            j += 1\n",
    "    \n",
    "    sorted_arr.extend(left[i:])\n",
    "    sorted_arr.extend(right[j:])\n",
    "    \n",
    "    return sorted_arr\n",
    "\n",
    "arr = [38,27,43,3,9,82,10,20,19,4,1,2,3,6,5,7,8,9,11,12]\n",
    "sorted_arr = merge_sort(arr)\n",
    "print(sorted_arr)"
   ]
  },
  {
   "cell_type": "markdown",
   "metadata": {},
   "source": [
    "In this code, I implemented the **Merge Sort** algorithm, which follows the divide-and-conquer approach. First, the `merge_sort` function recursively divides the input array into two halves until each subarray contains one or zero elements, which are already considered sorted. Once the array is divided, I use the `merge` function to combine the two sorted halves. In the merging process, I compare the elements from both halves and add the smaller one to a new list, ensuring the merged result is sorted. After comparing and merging, I append any remaining elements from either half. Finally, the sorted array is returned. For example, when I use the input `[38, 27, 43, 3, 9, 82, 10]`, the algorithm splits the array, sorts each subarray, and then merges them back together to give the sorted result `[3, 9, 10, 27, 38, 43, 82]`."
   ]
  },
  {
   "cell_type": "markdown",
   "metadata": {},
   "source": [
    "### 5. Quick Sort\n",
    "\n",
    "The next sorting algorithm that have similarity with Merge sort is this algorithm. Quick Sort is a divide-and-conquer algorithm that works by selecting a \"pivot\" element from the array and partitioning the other elements into two sub-arrays: one with elements smaller than the pivot and one with elements greater than the pivot. I then recursively apply the same process to these sub-arrays. The base case occurs when a sub-array has zero or one element, which means it's already sorted. This results in a highly efficient sorting algorithm with an average time complexity of O(n log n)."
   ]
  }
 ],
 "metadata": {
  "kernelspec": {
   "display_name": "base",
   "language": "python",
   "name": "python3"
  },
  "language_info": {
   "codemirror_mode": {
    "name": "ipython",
    "version": 3
   },
   "file_extension": ".py",
   "mimetype": "text/x-python",
   "name": "python",
   "nbconvert_exporter": "python",
   "pygments_lexer": "ipython3",
   "version": "3.9.13"
  }
 },
 "nbformat": 4,
 "nbformat_minor": 2
}
